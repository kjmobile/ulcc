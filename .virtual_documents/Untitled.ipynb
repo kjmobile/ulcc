# Cell 1: 데이터 로드 (한 번만 실행)
from basecode import prepare_base_data
base_data = prepare_base_data()


# Cell 2: H1 분석
from h1_analysis import run_h1_analysis
h1_results = run_h1_analysis(base_data)


# Cell 3: H2 분석
from h2_analysis import run_h2_analysis
h2_results = run_h2_analysis(base_data)


# Cell 4: H3 분석
from h3_analysis import run_h3_analysis
h3_results = run_h3_analysis(base_data)


# Cell 5: H4 분석
from h4_analysis import run_h4_analysis
h4_results = run_h4_analysis(base_data)


# Cell 6: 추가 분석
from additional_analysis import run_additional_analysis
additional_results = run_additional_analysis(base_data)



